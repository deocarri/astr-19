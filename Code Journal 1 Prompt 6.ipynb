{
 "cells": [
  {
   "cell_type": "code",
   "execution_count": 10,
   "id": "2c89222f",
   "metadata": {},
   "outputs": [],
   "source": [
    "import numpy as np "
   ]
  },
  {
   "cell_type": "code",
   "execution_count": 8,
   "id": "b7681263",
   "metadata": {},
   "outputs": [],
   "source": [
    "def sin(x):\n",
    "    return np.sin(x)"
   ]
  },
  {
   "cell_type": "code",
   "execution_count": 9,
   "id": "c0a39e7b",
   "metadata": {},
   "outputs": [],
   "source": [
    "def cos(x):\n",
    "    return np.cos(x)"
   ]
  },
  {
   "cell_type": "markdown",
   "id": "1bbc82d6",
   "metadata": {},
   "source": [
    "First cell imports numpy. \n",
    "Next two cells are functions that use an argument to return sin and cos of that input. "
   ]
  },
  {
   "cell_type": "code",
   "execution_count": 27,
   "id": "463bc44d",
   "metadata": {},
   "outputs": [],
   "source": [
    "x = np.linspace(0,2*np.pi, 1000)\n",
    "sin1 = np.linspace(0, sin(2*np.pi),1000)\n",
    "cos1 = np.linspace(0, cos(2*np.pi),1000)"
   ]
  },
  {
   "cell_type": "markdown",
   "id": "18db7968",
   "metadata": {},
   "source": [
    "These tabulate sin(x) and cos(x) vs x where x is tabulated between 0 and 2pi. "
   ]
  },
  {
   "cell_type": "code",
   "execution_count": 29,
   "id": "a6dcad7b",
   "metadata": {},
   "outputs": [
    {
     "name": "stdout",
     "output_type": "stream",
     "text": [
      "[[ 0.00000000e+00  0.00000000e+00]\n",
      " [-2.45174534e-19  1.00100100e-03]\n",
      " [-4.90349069e-19  2.00200200e-03]\n",
      " [-7.35523603e-19  3.00300300e-03]\n",
      " [-9.80698137e-19  4.00400400e-03]\n",
      " [-1.22587267e-18  5.00500501e-03]\n",
      " [-1.47104721e-18  6.00600601e-03]\n",
      " [-1.71622174e-18  7.00700701e-03]\n",
      " [-1.96139627e-18  8.00800801e-03]\n",
      " [-2.20657081e-18  9.00900901e-03]]\n"
     ]
    }
   ],
   "source": [
    "valsin = []\n",
    "valcos = []\n",
    "for i in range(10):\n",
    "    valsin.append(sin1[i])\n",
    "    valcos.append(cos1[i])\n",
    "matsin = np.asarray(valsin)\n",
    "matcos = np.asarray(valcos)\n",
    "mat = np.column_stack((matsin,matcos))\n",
    "print(mat)"
   ]
  }
 ],
 "metadata": {
  "kernelspec": {
   "display_name": "Python 3 (ipykernel)",
   "language": "python",
   "name": "python3"
  },
  "language_info": {
   "codemirror_mode": {
    "name": "ipython",
    "version": 3
   },
   "file_extension": ".py",
   "mimetype": "text/x-python",
   "name": "python",
   "nbconvert_exporter": "python",
   "pygments_lexer": "ipython3",
   "version": "3.10.0"
  }
 },
 "nbformat": 4,
 "nbformat_minor": 5
}
